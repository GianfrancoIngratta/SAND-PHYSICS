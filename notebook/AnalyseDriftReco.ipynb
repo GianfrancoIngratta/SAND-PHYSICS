{
 "cells": [
  {
   "cell_type": "code",
   "execution_count": 29,
   "metadata": {},
   "outputs": [],
   "source": [
    "import uproot4 as upr\n",
    "import seaborn as sns\n",
    "import pandas as pd\n",
    "import matplotlib.pyplot as plt\n",
    "import numpy as np\n",
    "import particle\n",
    "import ROOT\n",
    "import math\n",
    "import numpy as np\n",
    "import sys"
   ]
  },
  {
   "cell_type": "code",
   "execution_count": 11,
   "metadata": {},
   "outputs": [],
   "source": [
    "sys.path.append('/storage/gpfs_data/neutrino/users/gi/sand-reco/tests/python_tools')\n",
    "from NLLtreeoutReader import Reader, ROOT_tools, Reader_production\n",
    "tool = ROOT_tools()"
   ]
  },
  {
   "cell_type": "code",
   "execution_count": 4,
   "metadata": {},
   "outputs": [],
   "source": [
    "tree = upr.open(\"/storage/gpfs_data/neutrino/users/gi/sand-physics/production_antinumucc/events-in-SANDtracker.0.to.1000.drift-reco.analysed.root\")['tReco_extended']"
   ]
  },
  {
   "cell_type": "code",
   "execution_count": 6,
   "metadata": {},
   "outputs": [
    {
     "data": {
      "text/plain": [
       "['edep_file_input',\n",
       " 'digit_file_input',\n",
       " 'edep_event_index',\n",
       " 'pt_true',\n",
       " 'pt_reco',\n",
       " 'p_true',\n",
       " 'p_reco',\n",
       " 'ptot_true',\n",
       " 'ptot_reco',\n",
       " 'true_helix_dip_',\n",
       " 'reco_helix_dip_']"
      ]
     },
     "execution_count": 6,
     "metadata": {},
     "output_type": "execute_result"
    }
   ],
   "source": [
    "tree.keys()"
   ]
  },
  {
   "cell_type": "code",
   "execution_count": 14,
   "metadata": {},
   "outputs": [
    {
     "data": {
      "text/html": [
       "<div>\n",
       "<style scoped>\n",
       "    .dataframe tbody tr th:only-of-type {\n",
       "        vertical-align: middle;\n",
       "    }\n",
       "\n",
       "    .dataframe tbody tr th {\n",
       "        vertical-align: top;\n",
       "    }\n",
       "\n",
       "    .dataframe thead th {\n",
       "        text-align: right;\n",
       "    }\n",
       "</style>\n",
       "<table border=\"1\" class=\"dataframe\">\n",
       "  <thead>\n",
       "    <tr style=\"text-align: right;\">\n",
       "      <th></th>\n",
       "      <th></th>\n",
       "      <th>digit_file_input</th>\n",
       "      <th>pt_true</th>\n",
       "      <th>pt_reco</th>\n",
       "      <th>p_truefX</th>\n",
       "      <th>p_truefY</th>\n",
       "      <th>p_truefZ</th>\n",
       "      <th>p_recofX</th>\n",
       "      <th>p_recofY</th>\n",
       "      <th>p_recofZ</th>\n",
       "      <th>ptot_true</th>\n",
       "      <th>ptot_reco</th>\n",
       "      <th>true_helix_dip_</th>\n",
       "      <th>reco_helix_dip_</th>\n",
       "    </tr>\n",
       "    <tr>\n",
       "      <th>edep_file_input</th>\n",
       "      <th>edep_event_index</th>\n",
       "      <th></th>\n",
       "      <th></th>\n",
       "      <th></th>\n",
       "      <th></th>\n",
       "      <th></th>\n",
       "      <th></th>\n",
       "      <th></th>\n",
       "      <th></th>\n",
       "      <th></th>\n",
       "      <th></th>\n",
       "      <th></th>\n",
       "      <th></th>\n",
       "      <th></th>\n",
       "    </tr>\n",
       "  </thead>\n",
       "  <tbody>\n",
       "    <tr>\n",
       "      <th rowspan=\"5\" valign=\"top\">/storage/gpfs_data/neutrino/users/gi/SAND-DRIFT-STUDY/geometry/production_antinumucc/events-in-SANDtracker.500.edep-sim.root</th>\n",
       "      <th>46</th>\n",
       "      <td>/storage/gpfs_data/neutrino/users/gi/SAND-DRIF...</td>\n",
       "      <td>1191.317438</td>\n",
       "      <td>23.987645</td>\n",
       "      <td>548.862513</td>\n",
       "      <td>-153.703620</td>\n",
       "      <td>1181.360417</td>\n",
       "      <td>-7.393616</td>\n",
       "      <td>-18.025827</td>\n",
       "      <td>-15.826455</td>\n",
       "      <td>1311.673472</td>\n",
       "      <td>NaN</td>\n",
       "      <td>0.431732</td>\n",
       "      <td>-0.298986</td>\n",
       "    </tr>\n",
       "    <tr>\n",
       "      <th>73</th>\n",
       "      <td>/storage/gpfs_data/neutrino/users/gi/SAND-DRIF...</td>\n",
       "      <td>3255.871390</td>\n",
       "      <td>3279.653198</td>\n",
       "      <td>-99.473112</td>\n",
       "      <td>-791.876630</td>\n",
       "      <td>3158.105430</td>\n",
       "      <td>-98.909360</td>\n",
       "      <td>-797.195412</td>\n",
       "      <td>3181.289766</td>\n",
       "      <td>3257.390583</td>\n",
       "      <td>3269.245743</td>\n",
       "      <td>-0.030542</td>\n",
       "      <td>-0.030149</td>\n",
       "    </tr>\n",
       "    <tr>\n",
       "      <th>114</th>\n",
       "      <td>/storage/gpfs_data/neutrino/users/gi/SAND-DRIF...</td>\n",
       "      <td>1268.757772</td>\n",
       "      <td>1279.679933</td>\n",
       "      <td>39.318318</td>\n",
       "      <td>-565.499855</td>\n",
       "      <td>1135.762386</td>\n",
       "      <td>35.671693</td>\n",
       "      <td>-569.836788</td>\n",
       "      <td>1145.803983</td>\n",
       "      <td>1269.366856</td>\n",
       "      <td>1274.757325</td>\n",
       "      <td>0.030980</td>\n",
       "      <td>0.027868</td>\n",
       "    </tr>\n",
       "    <tr>\n",
       "      <th>128</th>\n",
       "      <td>/storage/gpfs_data/neutrino/users/gi/SAND-DRIF...</td>\n",
       "      <td>1630.233523</td>\n",
       "      <td>38.010445</td>\n",
       "      <td>736.274160</td>\n",
       "      <td>714.194053</td>\n",
       "      <td>1465.465180</td>\n",
       "      <td>15.357700</td>\n",
       "      <td>-26.123145</td>\n",
       "      <td>27.611144</td>\n",
       "      <td>1788.787572</td>\n",
       "      <td>181.971571</td>\n",
       "      <td>0.424215</td>\n",
       "      <td>0.383983</td>\n",
       "    </tr>\n",
       "    <tr>\n",
       "      <th>134</th>\n",
       "      <td>/storage/gpfs_data/neutrino/users/gi/SAND-DRIF...</td>\n",
       "      <td>290.987857</td>\n",
       "      <td>17.431890</td>\n",
       "      <td>435.980398</td>\n",
       "      <td>80.757777</td>\n",
       "      <td>279.556996</td>\n",
       "      <td>17.352962</td>\n",
       "      <td>-14.088000</td>\n",
       "      <td>10.266403</td>\n",
       "      <td>524.168713</td>\n",
       "      <td>96.425518</td>\n",
       "      <td>0.982263</td>\n",
       "      <td>0.783129</td>\n",
       "    </tr>\n",
       "    <tr>\n",
       "      <th>...</th>\n",
       "      <th>...</th>\n",
       "      <td>...</td>\n",
       "      <td>...</td>\n",
       "      <td>...</td>\n",
       "      <td>...</td>\n",
       "      <td>...</td>\n",
       "      <td>...</td>\n",
       "      <td>...</td>\n",
       "      <td>...</td>\n",
       "      <td>...</td>\n",
       "      <td>...</td>\n",
       "      <td>...</td>\n",
       "      <td>...</td>\n",
       "      <td>...</td>\n",
       "    </tr>\n",
       "    <tr>\n",
       "      <th rowspan=\"5\" valign=\"top\">/storage/gpfs_data/neutrino/users/gi/SAND-DRIFT-STUDY/geometry/production_antinumucc/events-in-SANDtracker.432.edep-sim.root</th>\n",
       "      <th>432</th>\n",
       "      <td>/storage/gpfs_data/neutrino/users/gi/SAND-DRIF...</td>\n",
       "      <td>99.869596</td>\n",
       "      <td>108.807331</td>\n",
       "      <td>-164.263624</td>\n",
       "      <td>87.664981</td>\n",
       "      <td>47.841273</td>\n",
       "      <td>116.717594</td>\n",
       "      <td>98.635475</td>\n",
       "      <td>45.935590</td>\n",
       "      <td>192.240668</td>\n",
       "      <td>NaN</td>\n",
       "      <td>-1.024527</td>\n",
       "      <td>0.820459</td>\n",
       "    </tr>\n",
       "    <tr>\n",
       "      <th>461</th>\n",
       "      <td>/storage/gpfs_data/neutrino/users/gi/SAND-DRIF...</td>\n",
       "      <td>1082.765882</td>\n",
       "      <td>8.134709</td>\n",
       "      <td>1530.816726</td>\n",
       "      <td>-229.176341</td>\n",
       "      <td>1058.234454</td>\n",
       "      <td>-1.630185</td>\n",
       "      <td>-8.047826</td>\n",
       "      <td>-1.185738</td>\n",
       "      <td>1875.041814</td>\n",
       "      <td>NaN</td>\n",
       "      <td>0.955179</td>\n",
       "      <td>-0.197779</td>\n",
       "    </tr>\n",
       "    <tr>\n",
       "      <th>632</th>\n",
       "      <td>/storage/gpfs_data/neutrino/users/gi/SAND-DRIF...</td>\n",
       "      <td>1716.625407</td>\n",
       "      <td>1715.574374</td>\n",
       "      <td>-307.899230</td>\n",
       "      <td>-223.345386</td>\n",
       "      <td>1702.033968</td>\n",
       "      <td>-304.210260</td>\n",
       "      <td>-227.488032</td>\n",
       "      <td>1700.424838</td>\n",
       "      <td>1744.019703</td>\n",
       "      <td>1743.173927</td>\n",
       "      <td>-0.177476</td>\n",
       "      <td>-0.175498</td>\n",
       "    </tr>\n",
       "    <tr>\n",
       "      <th>767</th>\n",
       "      <td>/storage/gpfs_data/neutrino/users/gi/SAND-DRIF...</td>\n",
       "      <td>4377.510306</td>\n",
       "      <td>1692.796621</td>\n",
       "      <td>-295.063348</td>\n",
       "      <td>-586.413780</td>\n",
       "      <td>4338.054328</td>\n",
       "      <td>114.876589</td>\n",
       "      <td>-3.491773</td>\n",
       "      <td>-1692.793020</td>\n",
       "      <td>4387.443317</td>\n",
       "      <td>NaN</td>\n",
       "      <td>-0.067303</td>\n",
       "      <td>0.067758</td>\n",
       "    </tr>\n",
       "    <tr>\n",
       "      <th>984</th>\n",
       "      <td>/storage/gpfs_data/neutrino/users/gi/SAND-DRIF...</td>\n",
       "      <td>2565.455720</td>\n",
       "      <td>522.938396</td>\n",
       "      <td>-621.786474</td>\n",
       "      <td>-246.324744</td>\n",
       "      <td>2553.602782</td>\n",
       "      <td>-118.790600</td>\n",
       "      <td>-186.094916</td>\n",
       "      <td>488.705687</td>\n",
       "      <td>2639.731325</td>\n",
       "      <td>1169.470980</td>\n",
       "      <td>-0.237784</td>\n",
       "      <td>-0.223369</td>\n",
       "    </tr>\n",
       "  </tbody>\n",
       "</table>\n",
       "<p>280207 rows × 13 columns</p>\n",
       "</div>"
      ],
      "text/plain": [
       "                                                                                                      digit_file_input  \\\n",
       "edep_file_input                                    edep_event_index                                                      \n",
       "/storage/gpfs_data/neutrino/users/gi/SAND-DRIFT... 46                /storage/gpfs_data/neutrino/users/gi/SAND-DRIF...   \n",
       "                                                   73                /storage/gpfs_data/neutrino/users/gi/SAND-DRIF...   \n",
       "                                                   114               /storage/gpfs_data/neutrino/users/gi/SAND-DRIF...   \n",
       "                                                   128               /storage/gpfs_data/neutrino/users/gi/SAND-DRIF...   \n",
       "                                                   134               /storage/gpfs_data/neutrino/users/gi/SAND-DRIF...   \n",
       "...                                                                                                                ...   \n",
       "/storage/gpfs_data/neutrino/users/gi/SAND-DRIFT... 432               /storage/gpfs_data/neutrino/users/gi/SAND-DRIF...   \n",
       "                                                   461               /storage/gpfs_data/neutrino/users/gi/SAND-DRIF...   \n",
       "                                                   632               /storage/gpfs_data/neutrino/users/gi/SAND-DRIF...   \n",
       "                                                   767               /storage/gpfs_data/neutrino/users/gi/SAND-DRIF...   \n",
       "                                                   984               /storage/gpfs_data/neutrino/users/gi/SAND-DRIF...   \n",
       "\n",
       "                                                                         pt_true  \\\n",
       "edep_file_input                                    edep_event_index                \n",
       "/storage/gpfs_data/neutrino/users/gi/SAND-DRIFT... 46                1191.317438   \n",
       "                                                   73                3255.871390   \n",
       "                                                   114               1268.757772   \n",
       "                                                   128               1630.233523   \n",
       "                                                   134                290.987857   \n",
       "...                                                                          ...   \n",
       "/storage/gpfs_data/neutrino/users/gi/SAND-DRIFT... 432                 99.869596   \n",
       "                                                   461               1082.765882   \n",
       "                                                   632               1716.625407   \n",
       "                                                   767               4377.510306   \n",
       "                                                   984               2565.455720   \n",
       "\n",
       "                                                                         pt_reco  \\\n",
       "edep_file_input                                    edep_event_index                \n",
       "/storage/gpfs_data/neutrino/users/gi/SAND-DRIFT... 46                  23.987645   \n",
       "                                                   73                3279.653198   \n",
       "                                                   114               1279.679933   \n",
       "                                                   128                 38.010445   \n",
       "                                                   134                 17.431890   \n",
       "...                                                                          ...   \n",
       "/storage/gpfs_data/neutrino/users/gi/SAND-DRIFT... 432                108.807331   \n",
       "                                                   461                  8.134709   \n",
       "                                                   632               1715.574374   \n",
       "                                                   767               1692.796621   \n",
       "                                                   984                522.938396   \n",
       "\n",
       "                                                                        p_truefX  \\\n",
       "edep_file_input                                    edep_event_index                \n",
       "/storage/gpfs_data/neutrino/users/gi/SAND-DRIFT... 46                 548.862513   \n",
       "                                                   73                 -99.473112   \n",
       "                                                   114                 39.318318   \n",
       "                                                   128                736.274160   \n",
       "                                                   134                435.980398   \n",
       "...                                                                          ...   \n",
       "/storage/gpfs_data/neutrino/users/gi/SAND-DRIFT... 432               -164.263624   \n",
       "                                                   461               1530.816726   \n",
       "                                                   632               -307.899230   \n",
       "                                                   767               -295.063348   \n",
       "                                                   984               -621.786474   \n",
       "\n",
       "                                                                       p_truefY  \\\n",
       "edep_file_input                                    edep_event_index               \n",
       "/storage/gpfs_data/neutrino/users/gi/SAND-DRIFT... 46               -153.703620   \n",
       "                                                   73               -791.876630   \n",
       "                                                   114              -565.499855   \n",
       "                                                   128               714.194053   \n",
       "                                                   134                80.757777   \n",
       "...                                                                         ...   \n",
       "/storage/gpfs_data/neutrino/users/gi/SAND-DRIFT... 432                87.664981   \n",
       "                                                   461              -229.176341   \n",
       "                                                   632              -223.345386   \n",
       "                                                   767              -586.413780   \n",
       "                                                   984              -246.324744   \n",
       "\n",
       "                                                                        p_truefZ  \\\n",
       "edep_file_input                                    edep_event_index                \n",
       "/storage/gpfs_data/neutrino/users/gi/SAND-DRIFT... 46                1181.360417   \n",
       "                                                   73                3158.105430   \n",
       "                                                   114               1135.762386   \n",
       "                                                   128               1465.465180   \n",
       "                                                   134                279.556996   \n",
       "...                                                                          ...   \n",
       "/storage/gpfs_data/neutrino/users/gi/SAND-DRIFT... 432                 47.841273   \n",
       "                                                   461               1058.234454   \n",
       "                                                   632               1702.033968   \n",
       "                                                   767               4338.054328   \n",
       "                                                   984               2553.602782   \n",
       "\n",
       "                                                                       p_recofX  \\\n",
       "edep_file_input                                    edep_event_index               \n",
       "/storage/gpfs_data/neutrino/users/gi/SAND-DRIFT... 46                 -7.393616   \n",
       "                                                   73                -98.909360   \n",
       "                                                   114                35.671693   \n",
       "                                                   128                15.357700   \n",
       "                                                   134                17.352962   \n",
       "...                                                                         ...   \n",
       "/storage/gpfs_data/neutrino/users/gi/SAND-DRIFT... 432               116.717594   \n",
       "                                                   461                -1.630185   \n",
       "                                                   632              -304.210260   \n",
       "                                                   767               114.876589   \n",
       "                                                   984              -118.790600   \n",
       "\n",
       "                                                                       p_recofY  \\\n",
       "edep_file_input                                    edep_event_index               \n",
       "/storage/gpfs_data/neutrino/users/gi/SAND-DRIFT... 46                -18.025827   \n",
       "                                                   73               -797.195412   \n",
       "                                                   114              -569.836788   \n",
       "                                                   128               -26.123145   \n",
       "                                                   134               -14.088000   \n",
       "...                                                                         ...   \n",
       "/storage/gpfs_data/neutrino/users/gi/SAND-DRIFT... 432                98.635475   \n",
       "                                                   461                -8.047826   \n",
       "                                                   632              -227.488032   \n",
       "                                                   767                -3.491773   \n",
       "                                                   984              -186.094916   \n",
       "\n",
       "                                                                        p_recofZ  \\\n",
       "edep_file_input                                    edep_event_index                \n",
       "/storage/gpfs_data/neutrino/users/gi/SAND-DRIFT... 46                 -15.826455   \n",
       "                                                   73                3181.289766   \n",
       "                                                   114               1145.803983   \n",
       "                                                   128                 27.611144   \n",
       "                                                   134                 10.266403   \n",
       "...                                                                          ...   \n",
       "/storage/gpfs_data/neutrino/users/gi/SAND-DRIFT... 432                 45.935590   \n",
       "                                                   461                 -1.185738   \n",
       "                                                   632               1700.424838   \n",
       "                                                   767              -1692.793020   \n",
       "                                                   984                488.705687   \n",
       "\n",
       "                                                                       ptot_true  \\\n",
       "edep_file_input                                    edep_event_index                \n",
       "/storage/gpfs_data/neutrino/users/gi/SAND-DRIFT... 46                1311.673472   \n",
       "                                                   73                3257.390583   \n",
       "                                                   114               1269.366856   \n",
       "                                                   128               1788.787572   \n",
       "                                                   134                524.168713   \n",
       "...                                                                          ...   \n",
       "/storage/gpfs_data/neutrino/users/gi/SAND-DRIFT... 432                192.240668   \n",
       "                                                   461               1875.041814   \n",
       "                                                   632               1744.019703   \n",
       "                                                   767               4387.443317   \n",
       "                                                   984               2639.731325   \n",
       "\n",
       "                                                                       ptot_reco  \\\n",
       "edep_file_input                                    edep_event_index                \n",
       "/storage/gpfs_data/neutrino/users/gi/SAND-DRIFT... 46                        NaN   \n",
       "                                                   73                3269.245743   \n",
       "                                                   114               1274.757325   \n",
       "                                                   128                181.971571   \n",
       "                                                   134                 96.425518   \n",
       "...                                                                          ...   \n",
       "/storage/gpfs_data/neutrino/users/gi/SAND-DRIFT... 432                       NaN   \n",
       "                                                   461                       NaN   \n",
       "                                                   632               1743.173927   \n",
       "                                                   767                       NaN   \n",
       "                                                   984               1169.470980   \n",
       "\n",
       "                                                                     true_helix_dip_  \\\n",
       "edep_file_input                                    edep_event_index                    \n",
       "/storage/gpfs_data/neutrino/users/gi/SAND-DRIFT... 46                       0.431732   \n",
       "                                                   73                      -0.030542   \n",
       "                                                   114                      0.030980   \n",
       "                                                   128                      0.424215   \n",
       "                                                   134                      0.982263   \n",
       "...                                                                              ...   \n",
       "/storage/gpfs_data/neutrino/users/gi/SAND-DRIFT... 432                     -1.024527   \n",
       "                                                   461                      0.955179   \n",
       "                                                   632                     -0.177476   \n",
       "                                                   767                     -0.067303   \n",
       "                                                   984                     -0.237784   \n",
       "\n",
       "                                                                     reco_helix_dip_  \n",
       "edep_file_input                                    edep_event_index                   \n",
       "/storage/gpfs_data/neutrino/users/gi/SAND-DRIFT... 46                      -0.298986  \n",
       "                                                   73                      -0.030149  \n",
       "                                                   114                      0.027868  \n",
       "                                                   128                      0.383983  \n",
       "                                                   134                      0.783129  \n",
       "...                                                                              ...  \n",
       "/storage/gpfs_data/neutrino/users/gi/SAND-DRIFT... 432                      0.820459  \n",
       "                                                   461                     -0.197779  \n",
       "                                                   632                     -0.175498  \n",
       "                                                   767                      0.067758  \n",
       "                                                   984                     -0.223369  \n",
       "\n",
       "[280207 rows x 13 columns]"
      ]
     },
     "execution_count": 14,
     "metadata": {},
     "output_type": "execute_result"
    }
   ],
   "source": [
    "df = tree.arrays(['edep_file_input',\n",
    " 'digit_file_input',\n",
    " 'edep_event_index',\n",
    " 'pt_true',\n",
    " 'pt_reco',\n",
    " 'p_true',\n",
    " 'p_reco',\n",
    " 'ptot_true',\n",
    " 'ptot_reco',\n",
    " 'true_helix_dip_',\n",
    " 'reco_helix_dip_'], library = 'pd')\n",
    "\n",
    "df = df.set_index(['edep_file_input','edep_event_index'])\n",
    "\n",
    "df"
   ]
  },
  {
   "cell_type": "code",
   "execution_count": 31,
   "metadata": {},
   "outputs": [],
   "source": [
    "df['ptot_residual'] = (1/df['ptot_true'] - 1/df['ptot_reco'])/(1/df['ptot_reco'])\n",
    "df['pt_residual'] = (1/df['pt_true'] - 1/df['pt_reco'])/(1/df['pt_reco'])"
   ]
  },
  {
   "cell_type": "code",
   "execution_count": 28,
   "metadata": {},
   "outputs": [
    {
     "data": {
      "text/plain": [
       "array([ 3.63946530e-03,  4.24658107e-03, -8.98271000e-01, ...,\n",
       "        5.63705226e-04, -4.84957761e-04, -5.56973481e-01])"
      ]
     },
     "execution_count": 28,
     "metadata": {},
     "output_type": "execute_result"
    }
   ],
   "source": [
    "df['ptot_residual'].dropna().values"
   ]
  },
  {
   "cell_type": "code",
   "execution_count": 30,
   "metadata": {},
   "outputs": [
    {
     "name": "stdout",
     "output_type": "stream",
     "text": [
      " FCN=7595.29 FROM MIGRAD    STATUS=CONVERGED      71 CALLS          72 TOTAL\n",
      "                     EDM=3.5256e-07    STRATEGY= 1      ERROR MATRIX ACCURATE \n",
      "  EXT PARAMETER                                   STEP         FIRST   \n",
      "  NO.   NAME      VALUE            ERROR          SIZE      DERIVATIVE \n",
      "   1  Constant     5.24900e+03   1.55761e+01   4.74521e-01   9.84334e-06\n",
      "   2  Mean        -8.05267e-03   5.43572e-05   2.30563e-06  -8.11540e+00\n",
      "   3  Sigma        2.54777e-02   5.28929e-05   1.99486e-05  -8.59877e-01\n"
     ]
    },
    {
     "name": "stderr",
     "output_type": "stream",
     "text": [
      "Info in <TCanvas::MakeDefCanvas>:  created default TCanvas with name c1\n"
     ]
    },
    {
     "data": {
      "image/png": "[encoded data removed]",
      "text/plain": [
       "<IPython.core.display.Image object>"
      ]
     },
     "metadata": {},
     "output_type": "display_data"
    }
   ],
   "source": [
    "hist_ptot = tool.FillTH1D(iterable = df['ptot_residual'].dropna().values, \n",
    "                          histogram_name = \"\", \n",
    "                          title = \"ptot residuals\", \n",
    "                          nbins = int(np.sqrt(len(df))),\n",
    "                          #  nbins = 30,\n",
    "                          x_min = -0.4, \n",
    "                          x_max = 0.4)\n",
    "\n",
    "hist_ptot, mean, sigma = tool.FitTH1D_w_gauss(hist = hist_ptot, \n",
    "                                             gauss_range = (-0.2, 0.2), \n",
    "                                             fit_range = (-0.1,0.1))\n",
    "\n",
    "c = ROOT.TCanvas(\"canvas_name\", \"Canvas\", 500, 500)\n",
    "ROOT.gStyle.SetOptFit(1011)\n",
    "hist_ptot.Draw()\n",
    "c.Draw()"
   ]
  },
  {
   "cell_type": "code",
   "execution_count": 32,
   "metadata": {},
   "outputs": [
    {
     "name": "stdout",
     "output_type": "stream",
     "text": [
      "250.0\n",
      "energy range [0.0,500.0] : resolution 0.07435102383564197\n",
      "750.0\n",
      "energy range [500.0,1000.0] : resolution 0.05267494169538394\n",
      "1250.0\n",
      "energy range [1000.0,1500.0] : resolution 0.047175010320260675\n",
      "1750.0\n",
      "energy range [1500.0,2000.0] : resolution 0.04414996048362143\n",
      "2250.0\n",
      "energy range [2000.0,2500.0] : resolution 0.044848790243562316\n",
      "2750.0\n",
      "energy range [2500.0,3000.0] : resolution 0.04331356557791946\n",
      "4000.0\n",
      "energy range [3000.0,5000.0] : resolution 0.0430940728764321\n",
      "6500.0\n",
      "energy range [5000.0,8000.0] : resolution 0.042358224607246656\n",
      " FCN=140.731 FROM MIGRAD    STATUS=CONVERGED      88 CALLS          89 TOTAL\n",
      "                     EDM=8.27594e-07    STRATEGY= 1      ERROR MATRIX ACCURATE \n",
      "  EXT PARAMETER                                   STEP         FIRST   \n",
      "  NO.   NAME      VALUE            ERROR          SIZE      DERIVATIVE \n",
      "   1  Constant     3.95724e+02   7.67571e+00   2.96131e-02   1.65943e-04\n",
      "   2  Mean        -8.26660e-02   4.03835e-03   6.39780e-06   8.46611e-01\n",
      "   3  Sigma        7.43510e-02   2.40836e-03   2.55673e-05   2.53536e-01\n",
      " FCN=431.766 FROM MIGRAD    STATUS=CONVERGED      76 CALLS          77 TOTAL\n",
      "                     EDM=4.88057e-08    STRATEGY= 1      ERROR MATRIX ACCURATE \n",
      "  EXT PARAMETER                                   STEP         FIRST   \n",
      "  NO.   NAME      VALUE            ERROR          SIZE      DERIVATIVE \n",
      "   1  Constant     9.40681e+02   8.03906e+00   6.09942e-02   2.29594e-05\n",
      "   2  Mean        -3.48748e-02   4.55379e-04   4.06427e-06  -3.83193e-01\n",
      "   3  Sigma        5.26749e-02   4.61630e-04   2.23539e-05  -5.08511e-02\n",
      " FCN=485.924 FROM MIGRAD    STATUS=CONVERGED      70 CALLS          71 TOTAL\n",
      "                     EDM=1.35643e-08    STRATEGY= 1      ERROR MATRIX ACCURATE \n",
      "  EXT PARAMETER                                   STEP         FIRST   \n",
      "  NO.   NAME      VALUE            ERROR          SIZE      DERIVATIVE \n",
      "   1  Constant     1.22433e+03   8.60756e+00   6.88284e-02   2.39482e-05\n",
      "   2  Mean        -2.19541e-02   2.82137e-04   2.98436e-06  -6.53953e-02\n",
      "   3  Sigma        4.71750e-02   2.84822e-04   1.69026e-05   3.89619e-02\n",
      " FCN=568.323 FROM MIGRAD    STATUS=CONVERGED      69 CALLS          70 TOTAL\n",
      "                     EDM=4.18301e-08    STRATEGY= 1      ERROR MATRIX ACCURATE \n",
      "  EXT PARAMETER                                   STEP         FIRST   \n",
      "  NO.   NAME      VALUE            ERROR          SIZE      DERIVATIVE \n",
      "   1  Constant     1.35173e+03   9.01895e+00   7.79638e-02   1.41956e-05\n",
      "   2  Mean        -1.57246e-02   2.38030e-04   2.76875e-06   3.27513e-02\n",
      "   3  Sigma        4.41500e-02   2.33195e-04   1.58408e-05   1.95974e-01\n",
      " FCN=463.542 FROM MIGRAD    STATUS=CONVERGED      69 CALLS          70 TOTAL\n",
      "                     EDM=5.02611e-08    STRATEGY= 1      ERROR MATRIX ACCURATE \n",
      "  EXT PARAMETER                                   STEP         FIRST   \n",
      "  NO.   NAME      VALUE            ERROR          SIZE      DERIVATIVE \n",
      "   1  Constant     1.20043e+03   8.76715e+00   6.85080e-02  -4.55762e-05\n",
      "   2  Mean        -1.19458e-02   2.66181e-04   2.79824e-06   3.76458e-02\n",
      "   3  Sigma        4.48488e-02   2.61632e-04   1.59047e-05  -7.77848e-02\n",
      " FCN=411.632 FROM MIGRAD    STATUS=CONVERGED      66 CALLS          67 TOTAL\n",
      "                     EDM=2.00256e-07    STRATEGY= 1      ERROR MATRIX ACCURATE \n",
      "  EXT PARAMETER                                   STEP         FIRST   \n",
      "  NO.   NAME      VALUE            ERROR          SIZE      DERIVATIVE \n",
      "   1  Constant     1.04485e+03   8.95911e+00   6.61543e-02   4.76969e-05\n",
      "   2  Mean        -1.03800e-02   2.97043e-04   2.94062e-06  -7.09826e-01\n",
      "   3  Sigma        4.33136e-02   2.84314e-04   1.66921e-05   3.52642e-01\n",
      " FCN=317.413 FROM MIGRAD    STATUS=CONVERGED      65 CALLS          66 TOTAL\n",
      "                     EDM=3.32491e-07    STRATEGY= 1      ERROR MATRIX ACCURATE \n",
      "  EXT PARAMETER                                   STEP         FIRST   \n",
      "  NO.   NAME      VALUE            ERROR          SIZE      DERIVATIVE \n",
      "   1  Constant     1.05945e+03   8.74658e+00   5.72920e-02   1.83476e-05\n",
      "   2  Mean        -8.85408e-03   2.88724e-04   2.51436e-06  -2.68144e-01\n",
      "   3  Sigma        4.30941e-02   2.72951e-04   1.43549e-05   4.14157e-01\n",
      " FCN=186.148 FROM MIGRAD    STATUS=CONVERGED      65 CALLS          66 TOTAL\n",
      "                     EDM=4.47536e-09    STRATEGY= 1      ERROR MATRIX ACCURATE \n",
      "  EXT PARAMETER                                   STEP         FIRST   \n",
      "  NO.   NAME      VALUE            ERROR          SIZE      DERIVATIVE \n",
      "   1  Constant     5.10145e+02   8.34421e+00   4.16378e-02   3.12737e-06\n",
      "   2  Mean        -6.21506e-03   5.62845e-04   3.69973e-06  -1.34637e-01\n",
      "   3  Sigma        4.23582e-02   5.25144e-04   2.10601e-05   2.00105e-02\n"
     ]
    },
    {
     "name": "stderr",
     "output_type": "stream",
     "text": [
      "Warning in <TROOT::Append>: Replacing existing TH1:  time:1726426223 (Potential memory leak).\n",
      "Warning in <TROOT::Append>: Replacing existing TH1:  time:1726426223 (Potential memory leak).\n",
      "Warning in <TROOT::Append>: Replacing existing TH1:  time:1726426223 (Potential memory leak).\n",
      "Warning in <TROOT::Append>: Replacing existing TH1:  time:1726426223 (Potential memory leak).\n",
      "Warning in <TROOT::Append>: Replacing existing TH1:  time:1726426223 (Potential memory leak).\n",
      "Warning in <TROOT::Append>: Replacing existing TH1:  time:1726426223 (Potential memory leak).\n",
      "Warning in <TROOT::Append>: Replacing existing TH1:  time:1726426223 (Potential memory leak).\n"
     ]
    }
   ],
   "source": [
    "# centers, widths = equally_split_bins(df['pt_true'].values, nof_bins=10)\n",
    "bin_edges  = np.array([0, 0.5, 1, 1.5, 2, 2.5, 3, 5, 8])*1e3\n",
    "centers = (bin_edges[1:]+bin_edges[:-1])/2\n",
    "widths  = (bin_edges[1:]-bin_edges[:-1])\n",
    "\n",
    "resolutions, hists = [], []\n",
    "\n",
    "# df_cut = df[(df.TMinuitFinalStatus==1)&(df.nof_digits>10)]\n",
    "df_cut = df\n",
    "for pt, width in zip(centers, widths):\n",
    "    # select all events in a give range of pt\n",
    "    print(pt)\n",
    "    df_inrange = df_cut[abs(df_cut.pt_true - pt) <= width/2]\n",
    "    hist = tool.FillTH1D(iterable = df_inrange['pt_residual'].values, \n",
    "                         histogram_name = \"\", \n",
    "                         title = \"\", \n",
    "                         nbins = int(np.sqrt(len(df_inrange))),\n",
    "                        #  nbins = 30,\n",
    "                         x_min = -0.4, \n",
    "                         x_max = 0.4)\n",
    "    hist, mean, sigma = tool.FitTH1D_w_gauss(hist = hist, \n",
    "                                             gauss_range = (-0.2, 0.2), \n",
    "                                             fit_range = (-0.1,0.1))\n",
    "    print(f\"energy range [{pt - width/2},{pt + width/2}] : resolution {sigma}\")\n",
    "    hists.append(hist)\n",
    "    resolutions.append(sigma)"
   ]
  },
  {
   "cell_type": "code",
   "execution_count": 33,
   "metadata": {},
   "outputs": [
    {
     "name": "stderr",
     "output_type": "stream",
     "text": [
      "Warning in <TCanvas::Constructor>: Deleting canvas with same name: canvas_name\n"
     ]
    },
    {
     "data": {
      "image/png": "[encoded data removed]",
      "text/plain": [
       "<IPython.core.display.Image object>"
      ]
     },
     "metadata": {},
     "output_type": "display_data"
    }
   ],
   "source": [
    "c = ROOT.TCanvas(\"canvas_name\", \"Canvas\", 400, 1500)\n",
    "ROOT.gStyle.SetOptFit(1011)\n",
    "c.Divide(1,len(hists))\n",
    "for i, hist in enumerate(hists):\n",
    "    c.cd(i+1)\n",
    "    hist.Draw()\n",
    "c.Draw()"
   ]
  },
  {
   "cell_type": "code",
   "execution_count": 34,
   "metadata": {},
   "outputs": [
    {
     "name": "stderr",
     "output_type": "stream",
     "text": [
      "No handles with labels found to put in legend.\n"
     ]
    },
    {
     "data": {
      "text/plain": [
       "Text(0.5, 0.98, '$\\\\mu$ momentum (transverse to B) resolution')"
      ]
     },
     "execution_count": 34,
     "metadata": {},
     "output_type": "execute_result"
    },
    {
     "data": {
      "image/png": "[encoded data removed]",
      "text/plain": [
       "<Figure size 720x576 with 1 Axes>"
      ]
     },
     "metadata": {
      "needs_background": "light"
     },
     "output_type": "display_data"
    }
   ],
   "source": [
    "fig,ax = plt.subplots(figsize=(10,8))\n",
    "ax.errorbar(x=centers, y=np.array(resolutions)*1E2, xerr=np.array(widths)/2 ,fmt ='o',capsize=5)\n",
    "plt.xlabel(r\"$\\mu$ true $p_t$ [MeV]\", fontsize=15)\n",
    "plt.ylabel(\"[%]\", fontsize=15)\n",
    "# plt.xticks(np.arange(0,6,0.5))\n",
    "# plt.yticks(np.arange(0.1,2,0.1))\n",
    "plt.legend()\n",
    "plt.suptitle(r\"$\\mu$ momentum (transverse to B) resolution\", fontsize=15)"
   ]
  },
  {
   "cell_type": "code",
   "execution_count": 35,
   "metadata": {},
   "outputs": [
    {
     "name": "stdout",
     "output_type": "stream",
     "text": [
      "250.0\n",
      "energy range [0.0,500.0] : resolution 0.0476203025172346\n",
      "750.0\n",
      "energy range [500.0,1000.0] : resolution 0.027534061759850792\n",
      "1250.0\n",
      "energy range [1000.0,1500.0] : resolution 0.024992460649361937\n",
      "1750.0\n",
      "energy range [1500.0,2000.0] : resolution 0.023301885504657727\n",
      "2250.0\n",
      "energy range [2000.0,2500.0] : resolution 0.023615561939750642\n",
      "2750.0\n",
      "energy range [2500.0,3000.0] : resolution 0.023199020639853\n",
      "4000.0\n",
      "energy range [3000.0,5000.0] : resolution 0.023325984224624414\n",
      "6500.0\n",
      "energy range [5000.0,8000.0] : resolution 0.023794797331087403\n",
      " FCN=270.014 FROM MIGRAD    STATUS=CONVERGED      76 CALLS          77 TOTAL\n",
      "                     EDM=7.07879e-10    STRATEGY= 1      ERROR MATRIX ACCURATE \n",
      "  EXT PARAMETER                                   STEP         FIRST   \n",
      "  NO.   NAME      VALUE            ERROR          SIZE      DERIVATIVE \n",
      "   1  Constant     4.87481e+02   8.08299e+00   4.53005e-02   5.17656e-06\n",
      "   2  Mean        -2.85608e-02   6.52489e-04   5.03845e-06  -1.15535e-02\n",
      "   3  Sigma        4.76203e-02   7.51711e-04   3.01716e-05   8.81124e-03\n",
      " FCN=867.209 FROM MIGRAD    STATUS=CONVERGED      70 CALLS          71 TOTAL\n",
      "                     EDM=1.10476e-08    STRATEGY= 1      ERROR MATRIX ACCURATE \n",
      "  EXT PARAMETER                                   STEP         FIRST   \n",
      "  NO.   NAME      VALUE            ERROR          SIZE      DERIVATIVE \n",
      "   1  Constant     1.75376e+03   1.45661e+01   1.54263e-01   6.69737e-07\n",
      "   2  Mean        -1.47884e-02   1.73798e-04   2.43255e-06   5.34490e-01\n",
      "   3  Sigma        2.75341e-02   1.56036e-04   1.88521e-05  -7.34765e-02\n",
      " FCN=1211.39 FROM MIGRAD    STATUS=CONVERGED      70 CALLS          71 TOTAL\n",
      "                     EDM=1.15536e-08    STRATEGY= 1      ERROR MATRIX ACCURATE \n",
      "  EXT PARAMETER                                   STEP         FIRST   \n",
      "  NO.   NAME      VALUE            ERROR          SIZE      DERIVATIVE \n",
      "   1  Constant     2.33032e+03   1.61797e+01   2.00523e-01   1.49121e-06\n",
      "   2  Mean        -1.05476e-02   1.28897e-04   2.15280e-06   7.42794e-01\n",
      "   3  Sigma        2.49925e-02   1.19016e-04   1.86309e-05  -7.87699e-02\n",
      " FCN=1597.93 FROM MIGRAD    STATUS=CONVERGED      70 CALLS          71 TOTAL\n",
      "                     EDM=6.33543e-08    STRATEGY= 1      ERROR MATRIX ACCURATE \n",
      "  EXT PARAMETER                                   STEP         FIRST   \n",
      "  NO.   NAME      VALUE            ERROR          SIZE      DERIVATIVE \n",
      "   1  Constant     2.58811e+03   1.73590e+01   2.45127e-01   3.28432e-06\n",
      "   2  Mean        -7.63382e-03   1.15460e-04   2.20736e-06  -2.81248e+00\n",
      "   3  Sigma        2.33019e-02   1.07984e-04   2.02325e-05   1.79604e-01\n",
      " FCN=1120.58 FROM MIGRAD    STATUS=CONVERGED      69 CALLS          70 TOTAL\n",
      "                     EDM=9.73005e-07    STRATEGY= 1      ERROR MATRIX ACCURATE \n",
      "  EXT PARAMETER                                   STEP         FIRST   \n",
      "  NO.   NAME      VALUE            ERROR          SIZE      DERIVATIVE \n",
      "   1  Constant     2.30453e+03   1.65998e+01   2.00117e-01  -1.21370e-05\n",
      "   2  Mean        -5.63695e-03   1.27412e-04   2.05121e-06  -6.09992e+00\n",
      "   3  Sigma        2.36156e-02   1.14983e-04   1.84210e-05  -7.50570e-01\n",
      " FCN=821.084 FROM MIGRAD    STATUS=CONVERGED      72 CALLS          73 TOTAL\n",
      "                     EDM=4.74873e-10    STRATEGY= 1      ERROR MATRIX ACCURATE \n",
      "  EXT PARAMETER                                   STEP         FIRST   \n",
      "  NO.   NAME      VALUE            ERROR          SIZE      DERIVATIVE \n",
      "   1  Constant     1.98697e+03   1.70272e+01   1.73979e-01  -5.27705e-07\n",
      "   2  Mean        -5.09063e-03   1.45969e-04   2.03176e-06   1.40265e-01\n",
      "   3  Sigma        2.31990e-02   1.35913e-04   1.88490e-05  -1.65029e-02\n",
      " FCN=995.14 FROM MIGRAD    STATUS=CONVERGED      69 CALLS          70 TOTAL\n",
      "                     EDM=1.96775e-07    STRATEGY= 1      ERROR MATRIX ACCURATE \n",
      "  EXT PARAMETER                                   STEP         FIRST   \n",
      "  NO.   NAME      VALUE            ERROR          SIZE      DERIVATIVE \n",
      "   1  Constant     1.99605e+03   1.68674e+01   1.86758e-01   1.86879e-06\n",
      "   2  Mean        -4.30444e-03   1.42215e-04   2.18289e-06  -1.63902e+00\n",
      "   3  Sigma        2.33260e-02   1.37154e-04   2.03939e-05  -2.92321e-01\n",
      " FCN=387.522 FROM MIGRAD    STATUS=CONVERGED      67 CALLS          68 TOTAL\n",
      "                     EDM=6.07232e-08    STRATEGY= 1      ERROR MATRIX ACCURATE \n",
      "  EXT PARAMETER                                   STEP         FIRST   \n",
      "  NO.   NAME      VALUE            ERROR          SIZE      DERIVATIVE \n",
      "   1  Constant     9.38588e+02   1.62163e+01   1.07461e-01  -8.21283e-07\n",
      "   2  Mean        -2.48166e-03   2.92303e-04   2.72492e-06  -5.64792e-01\n",
      "   3  Sigma        2.37948e-02   2.98234e-04   2.55026e-05  -7.11650e-02\n"
     ]
    },
    {
     "name": "stderr",
     "output_type": "stream",
     "text": [
      "Warning in <TROOT::Append>: Replacing existing TH1:  time:1726426352 (Potential memory leak).\n",
      "Warning in <TROOT::Append>: Replacing existing TH1:  time:1726426352 (Potential memory leak).\n",
      "Warning in <TROOT::Append>: Replacing existing TH1:  time:1726426352 (Potential memory leak).\n",
      "Warning in <TROOT::Append>: Replacing existing TH1:  time:1726426352 (Potential memory leak).\n",
      "Warning in <TROOT::Append>: Replacing existing TH1:  time:1726426352 (Potential memory leak).\n",
      "Warning in <TROOT::Append>: Replacing existing TH1:  time:1726426352 (Potential memory leak).\n",
      "Warning in <TROOT::Append>: Replacing existing TH1:  time:1726426352 (Potential memory leak).\n"
     ]
    }
   ],
   "source": [
    "# centers, widths = equally_split_bins(df['pt_true'].values, nof_bins=10)\n",
    "bin_edges  = np.array([0, 0.5, 1, 1.5, 2, 2.5, 3, 5, 8])*1e3\n",
    "centers = (bin_edges[1:]+bin_edges[:-1])/2\n",
    "widths  = (bin_edges[1:]-bin_edges[:-1])\n",
    "\n",
    "resolutions, hists = [], []\n",
    "\n",
    "# df_cut = df[(df.TMinuitFinalStatus==1)&(df.nof_digits>10)]\n",
    "df_cut = df\n",
    "for pt, width in zip(centers, widths):\n",
    "    # select all events in a give range of pt\n",
    "    print(pt)\n",
    "    df_inrange = df_cut[abs(df_cut.pt_true - pt) <= width/2]\n",
    "    hist = tool.FillTH1D(iterable = df_inrange['ptot_residual'].values, \n",
    "                         histogram_name = \"\", \n",
    "                         title = \"\", \n",
    "                         nbins = int(np.sqrt(len(df_inrange))),\n",
    "                        #  nbins = 30,\n",
    "                         x_min = -0.4, \n",
    "                         x_max = 0.4)\n",
    "    hist, mean, sigma = tool.FitTH1D_w_gauss(hist = hist, \n",
    "                                             gauss_range = (-0.2, 0.2), \n",
    "                                             fit_range = (-0.1,0.1))\n",
    "    print(f\"energy range [{pt - width/2},{pt + width/2}] : resolution {sigma}\")\n",
    "    hists.append(hist)\n",
    "    resolutions.append(sigma)"
   ]
  },
  {
   "cell_type": "code",
   "execution_count": 37,
   "metadata": {},
   "outputs": [
    {
     "name": "stderr",
     "output_type": "stream",
     "text": [
      "No handles with labels found to put in legend.\n"
     ]
    },
    {
     "data": {
      "text/plain": [
       "Text(0.5, 1.0, '$\\\\mu$ momentum resolution')"
      ]
     },
     "execution_count": 37,
     "metadata": {},
     "output_type": "execute_result"
    },
    {
     "data": {
      "image/png": "[encoded data removed]",
      "text/plain": [
       "<Figure size 720x576 with 1 Axes>"
      ]
     },
     "metadata": {
      "needs_background": "light"
     },
     "output_type": "display_data"
    }
   ],
   "source": [
    "fig,ax = plt.subplots(figsize=(10,8))\n",
    "ax.errorbar(x=centers, y=np.array(resolutions)*1E2, xerr=np.array(widths)/2 ,fmt ='o',capsize=5)\n",
    "plt.xlabel(r\"$\\mu$ true momentum [MeV]\", fontsize=15)\n",
    "plt.ylabel(\"[%]\", fontsize=15)\n",
    "plt.xticks(fontsize=15)\n",
    "plt.yticks(fontsize=15)\n",
    "plt.legend()\n",
    "plt.title(r\"$\\mu$ momentum resolution\", fontsize=20)"
   ]
  },
  {
   "cell_type": "code",
   "execution_count": 50,
   "metadata": {},
   "outputs": [
    {
     "data": {
      "text/plain": [
       "<matplotlib.legend.Legend at 0x7f355eccf2e8>"
      ]
     },
     "execution_count": 50,
     "metadata": {},
     "output_type": "execute_result"
    },
    {
     "data": {
      "image/png": "[encoded data removed]",
      "text/plain": [
       "<Figure size 1296x432 with 2 Axes>"
      ]
     },
     "metadata": {
      "needs_background": "light"
     },
     "output_type": "display_data"
    }
   ],
   "source": [
    "fig, ax = plt.subplots(1,2,figsize=(18,6))\n",
    "ax[0].hist(df.dropna()['ptot_true'], bins=np.arange(0, 5000, 50), histtype='step', label='true', color='blue')\n",
    "ax[0].hist(df.dropna()['ptot_reco'], bins=np.arange(0, 5000, 50), histtype='step', label='reco', color='red')\n",
    "\n",
    "ax[1].hist(df.dropna()['pt_true'], bins=np.arange(0, 5000, 50), histtype='step', label='true', color='blue')\n",
    "ax[1].hist(df.dropna()['pt_reco'], bins=np.arange(0, 5000, 50), histtype='step', label='reco', color='red')\n",
    "\n",
    "ax[0].set_title(\"muon total momentum\", fontsize=20)\n",
    "ax[0].set_xlabel(\"[MeV]\",fontsize=15)\n",
    "ax[0].legend(fontsize=18)\n",
    "\n",
    "ax[1].set_title(\"muon transverse to B momentum\", fontsize=20)\n",
    "ax[1].set_xlabel(\"[MeV]\",fontsize=15)\n",
    "ax[1].legend(fontsize=18)"
   ]
  },
  {
   "cell_type": "code",
   "execution_count": 63,
   "metadata": {},
   "outputs": [
    {
     "data": {
      "text/plain": [
       "Text(0.5, 0, 'pz_true - pz_reco [MeV]')"
      ]
     },
     "execution_count": 63,
     "metadata": {},
     "output_type": "execute_result"
    },
    {
     "data": {
      "image/png": "[encoded data removed]",
      "text/plain": [
       "<Figure size 1440x432 with 3 Axes>"
      ]
     },
     "metadata": {
      "needs_background": "light"
     },
     "output_type": "display_data"
    }
   ],
   "source": [
    "fig,ax = plt.subplots(1,3, figsize=(20,6))\n",
    "\n",
    "ax[0].hist(x=df['p_truefX']-df['p_recofX'], histtype='step', bins=np.arange(-500,500,0.5))\n",
    "ax[1].hist(x=df['p_truefY']-df['p_recofY'], histtype='step', bins=np.arange(-500,500,0.5))\n",
    "ax[2].hist(x=df['p_truefZ']-df['p_recofZ'], histtype='step', bins=np.arange(-500,500,0.5))\n",
    "\n",
    "ax[0].set_xlabel(\"px_true - px_reco [MeV]\")\n",
    "ax[1].set_xlabel(\"py_true - py_reco [MeV]\")\n",
    "ax[2].set_xlabel(\"pz_true - pz_reco [MeV]\")"
   ]
  },
  {
   "cell_type": "code",
   "execution_count": 67,
   "metadata": {},
   "outputs": [
    {
     "name": "stderr",
     "output_type": "stream",
     "text": [
      "Warning in <TCanvas::Constructor>: Deleting canvas with same name: canvas_name\n"
     ]
    },
    {
     "data": {
      "image/png": "[encoded data removed]",
      "text/plain": [
       "<IPython.core.display.Image object>"
      ]
     },
     "metadata": {},
     "output_type": "display_data"
    }
   ],
   "source": [
    "hist1 = tool.FillTH1D(iterable = df['p_truefX']-df['p_recofX'].dropna().values, \n",
    "                          histogram_name = \"\", \n",
    "                          title = \"px_true - px_reco [MeV]\", \n",
    "                          nbins = int(np.sqrt(len(df))),\n",
    "                          #  nbins = 30,\n",
    "                          x_min = -500, \n",
    "                          x_max = 500)\n",
    "hist2 = tool.FillTH1D(iterable = df['p_truefX']-df['p_recofX'].dropna().values, \n",
    "                          histogram_name = \"\", \n",
    "                          title = \"px_true - px_reco [MeV]\", \n",
    "                          nbins = int(np.sqrt(len(df))),\n",
    "                          #  nbins = 30,\n",
    "                          x_min = -500, \n",
    "                          x_max = 500)\n",
    "hist3 = tool.FillTH1D(iterable = df['p_truefX']-df['p_recofX'].dropna().values, \n",
    "                          histogram_name = \"\", \n",
    "                          title = \"px_true - px_reco [MeV]\", \n",
    "                          nbins = int(np.sqrt(len(df))),\n",
    "                          #  nbins = 30,\n",
    "                          x_min = -500, \n",
    "                          x_max = 500)\n",
    "\n",
    "# hist_ptot, mean, sigma = tool.FitTH1D_w_gauss(hist = hist_ptot, \n",
    "#                                              gauss_range = (-0.2, 0.2), \n",
    "#                                              fit_range = (-0.1,0.1))\n",
    "\n",
    "c = ROOT.TCanvas(\"canvas_name\", \"Canvas\", 1200, 500)\n",
    "c.Divide(3)\n",
    "\n",
    "c.cd(1)\n",
    "ROOT.gStyle.SetOptFit(1011)\n",
    "hist1.Draw()\n",
    "c.Draw()\n",
    "\n",
    "c.cd(2)"
   ]
  },
  {
   "cell_type": "code",
   "execution_count": null,
   "metadata": {},
   "outputs": [],
   "source": []
  }
 ],
 "metadata": {
  "kernelspec": {
   "display_name": "Python 3",
   "language": "python",
   "name": "python3"
  },
  "language_info": {
   "codemirror_mode": {
    "name": "ipython",
    "version": 3
   },
   "file_extension": ".py",
   "mimetype": "text/x-python",
   "name": "python",
   "nbconvert_exporter": "python",
   "pygments_lexer": "ipython3",
   "version": "3.6.8"
  }
 },
 "nbformat": 4,
 "nbformat_minor": 2
}
